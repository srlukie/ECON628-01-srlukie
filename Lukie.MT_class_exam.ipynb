{
 "cells": [
  {
   "cell_type": "markdown",
   "metadata": {},
   "source": [
    "<img src=\"https://images.efollett.com/htmlroot/images/templates/storeLogos/CA/864.gif\" style=\"float: right;\"> \n",
    "\n",
    "\n",
    "\n",
    "\n",
    "# ECON628-01 \n",
    "### Midterm - In-class Exam\n",
    "\n",
    "\n",
    "\n",
    "---\n",
    "#### Guidelines \n",
    "- This is your notebook for your in-class midterm exam. \n",
    "- You are required to submit your answers using this notebook (do not push or submit PDFs, Word docs, etc, if you do, your answers will be considered invalid = **0%**).\n",
    "- The in-class exam is **10%** of your total midterm score.\n",
    "- During the exam you can only have the following websites open in your browser:\n",
    "    * [ECON-628-01 github][1]\n",
    "    * ECON-628-01-yourgithubusersname \n",
    "    * [StackOverflow][2]  \n",
    "- If we noticed that your computer browser has other websites open, you will be asked to **close your computer, leave the class, and will get an score of 0%**\n",
    "- Remember: if you are using code from someone else/online (StackOverflow) you need:\n",
    "    - Cite the website from where you are getting the code.\n",
    "    - **Explain on your \"own words\" what the code is doing.**\n",
    "    - If you fail to do this, your grade will be **penalized.**\n",
    "    \n",
    "\n",
    "\n",
    "- Once you are done with your exam use this [link][3] to **submit** the GitHub link to your take home exam.\n",
    "[1]:https://github.com/jrcmalunay/ECON628-01 \"ECON-628-01 github\"\n",
    "[2]:http://stackoverflow.com \"StackOverflow\"\n",
    "[3]: https://docs.google.com/forms/d/e/1FAIpQLSercXrXIky91taz98tPviIqA8C0FaQZ_WIfNoRYxMbV5wPtkg/viewform \"link\"\n",
    "\n",
    "---\n",
    "\n"
   ]
  },
  {
   "cell_type": "markdown",
   "metadata": {},
   "source": [
    "### Dataset 1\n",
    "\n",
    "This dataset comes from the Sleep and the allocation of time [paper][1] by Biddle, Jeff and Hamermesh, Daniel where using aggregated data for 12 countries, a cross section of microeconomic data, and a panel of households, they demonstrate that increases in time in the labor market reduce sleep!!!! The variables are:\n",
    "https://www.jstor.org/stable/2937618?seq=1#page_scan_tab_contents\n",
    "\n",
    "| **Name**   |      **Description**     |  \n",
    "|----------|:-------------:|\n",
    "| age | in years | \n",
    "| black | =1 if black | \n",
    "| case | identifier | \n",
    "| clerical | =1 if clerical worker |\n",
    "| construc | =1 if construction worker |\n",
    "| educ | years of schooling|\n",
    "| earns74 | total earnings, 1974 |\n",
    "| gdhlth | =1 if in good or excellent health |\n",
    "| inlf |  =1 if in labor force |\n",
    "|leis1  |sleep - totwrk|\n",
    "|leis2  |slpnaps - totwrk|\n",
    "|leis3  |rlxall - totwrk|\n",
    "| smsa |  =1 if living in SMSA |\n",
    "| | SMSA is the Standard Metropolitan Statistical Area, an integrated economic and social unit having a large population nucleus. It is a good indicator of living in a city.|\n",
    "|lhrwage| log hourly wage|\n",
    "|lothinc | log othinc, unless othinc < 0\n",
    "| male |  =1 if male |\n",
    "| marr | =1 if married |\n",
    "| prot | =1 if Protestant |\n",
    "|rlxall |slpnaps + personal activs|\n",
    "| selfe  | =1 if self employed|\n",
    "| sleep | minutes sleep at night, per week |\n",
    "| slpnaps | minutes sleep, including naps, per week |\n",
    "| south |  =1 if live in south |\n",
    "| spsepay |  spousal wage income |\n",
    "| spwrk75 |  =1 if spouse works |\n",
    "| totwrk | minutes worked per week |\n",
    "| union |  =1 if belong to union |\n",
    "| worknrm | minutes work main job |\n",
    "| workscnd | minutes work second job |\n",
    "|exper     | age - educ - 6 |\n",
    "| yngkid | =1 if children less than 3 years present |\n",
    "| yrsmarr | years married |\n",
    "| hrwage | hourly wage |\n",
    "|agesq   |age^2|\n",
    "\n",
    "\n",
    "[1]:https://core.ac.uk/download/pdf/6820141.pdf \"paper\"\n",
    "\n",
    "\n",
    "---\n"
   ]
  },
  {
   "cell_type": "markdown",
   "metadata": {},
   "source": [
    "---\n",
    "\n",
    "## The Scenario\n",
    "---\n",
    "The PI (principal investigator) of a project you are working for, claims that nowadays people sleep \"more\" because access to the internet and the mechanization of labor reduces their work time. Based on this assumption, he wants to implement a literacy program that requires participants to read 1 chapter of a book one hour before their bed time and one section of an introduction to mathematics book one hour before they leave their home for work.\n",
    "\n",
    "**He asks you to find out if people are indeed sleeping more or not, before he implements the literacy program.** \n",
    "Assume that, you don't have any other dataset but the one from the Biddle and Hamermesh paper to answer this question. \n",
    "Use all the predictive methods, you consider neccesary to give  an answer to the PI, and make sure you explain the output of your predictive analysis.\n"
   ]
  },
  {
   "cell_type": "markdown",
   "metadata": {},
   "source": [
    "---\n",
    "\n",
    "### Basic package imports\n",
    "---"
   ]
  },
  {
   "cell_type": "code",
   "execution_count": 1,
   "metadata": {
    "collapsed": false
   },
   "outputs": [],
   "source": [
    "import numpy as np\n",
    "import scipy.stats as stats\n",
    "import pandas as pd\n",
    "import seaborn as sns\n",
    "\n",
    "import matplotlib\n",
    "import matplotlib.pyplot as plt\n",
    "\n",
    "%config InlineBackend.figure_format = 'retina'\n",
    "%matplotlib inline\n",
    "\n",
    "plt.style.use('fivethirtyeight')"
   ]
  },
  {
   "cell_type": "markdown",
   "metadata": {},
   "source": [
    "## 1. Read/load the dataset \"sleep_bh.csv\" and do an initial overview of the data\n",
    "    Check the shape of your data\n",
    "    Cheeck the type of values\n",
    "    Identify which variables have missing values\n",
    "    Print a list of the indices where there are missing values\n",
    "---"
   ]
  },
  {
   "cell_type": "markdown",
   "metadata": {},
   "source": [
    "&nbsp;&nbsp;&nbsp;&nbsp;&nbsp;&nbsp; <u>**1: Inital Overview of the Data**</u>\n",
    "* There are 532 observations and 34 variables.\n",
    "* The Dataset is comprised of floats and ints\n",
    "* The following variables have 174 missing values: <i>lhrwage</i> and <i>hrwage</i>"
   ]
  },
  {
   "cell_type": "code",
   "execution_count": 2,
   "metadata": {
    "collapsed": false
   },
   "outputs": [],
   "source": [
    "#Read/load the dataset\n",
    "sleep = '../sleep/sleep_bh.csv'\n",
    "sleep = pd.read_csv(sleep)"
   ]
  },
  {
   "cell_type": "code",
   "execution_count": 3,
   "metadata": {
    "collapsed": false
   },
   "outputs": [
    {
     "name": "stderr",
     "output_type": "stream",
     "text": [
      "/Users/shaniselukie/anaconda2/lib/python2.7/site-packages/numpy/lib/function_base.py:3834: RuntimeWarning: Invalid value encountered in percentile\n",
      "  RuntimeWarning)\n"
     ]
    },
    {
     "data": {
      "text/html": [
       "<div>\n",
       "<table border=\"1\" class=\"dataframe\">\n",
       "  <thead>\n",
       "    <tr style=\"text-align: right;\">\n",
       "      <th></th>\n",
       "      <th>age</th>\n",
       "      <th>black</th>\n",
       "      <th>case</th>\n",
       "      <th>clerical</th>\n",
       "      <th>construc</th>\n",
       "      <th>educ</th>\n",
       "      <th>earns74</th>\n",
       "      <th>gdhlth</th>\n",
       "      <th>inlf</th>\n",
       "      <th>leis1</th>\n",
       "      <th>...</th>\n",
       "      <th>spwrk75</th>\n",
       "      <th>totwrk</th>\n",
       "      <th>union</th>\n",
       "      <th>worknrm</th>\n",
       "      <th>workscnd</th>\n",
       "      <th>exper</th>\n",
       "      <th>yngkid</th>\n",
       "      <th>yrsmarr</th>\n",
       "      <th>hrwage</th>\n",
       "      <th>agesq</th>\n",
       "    </tr>\n",
       "  </thead>\n",
       "  <tbody>\n",
       "    <tr>\n",
       "      <th>count</th>\n",
       "      <td>706.000000</td>\n",
       "      <td>706.000000</td>\n",
       "      <td>706.000000</td>\n",
       "      <td>706.000000</td>\n",
       "      <td>706.000000</td>\n",
       "      <td>706.000000</td>\n",
       "      <td>706.000000</td>\n",
       "      <td>706.000000</td>\n",
       "      <td>706.000000</td>\n",
       "      <td>706.000000</td>\n",
       "      <td>...</td>\n",
       "      <td>706.000000</td>\n",
       "      <td>706.000000</td>\n",
       "      <td>706.000000</td>\n",
       "      <td>706.000000</td>\n",
       "      <td>706.000000</td>\n",
       "      <td>706.000000</td>\n",
       "      <td>706.000000</td>\n",
       "      <td>706.000000</td>\n",
       "      <td>532.000000</td>\n",
       "      <td>706.000000</td>\n",
       "    </tr>\n",
       "    <tr>\n",
       "      <th>mean</th>\n",
       "      <td>38.815864</td>\n",
       "      <td>0.049575</td>\n",
       "      <td>353.500000</td>\n",
       "      <td>0.182331</td>\n",
       "      <td>0.030075</td>\n",
       "      <td>12.780453</td>\n",
       "      <td>9767.705382</td>\n",
       "      <td>0.890935</td>\n",
       "      <td>0.753541</td>\n",
       "      <td>4690.723796</td>\n",
       "      <td>...</td>\n",
       "      <td>0.480170</td>\n",
       "      <td>2122.920680</td>\n",
       "      <td>0.218130</td>\n",
       "      <td>2093.252125</td>\n",
       "      <td>29.668555</td>\n",
       "      <td>20.035411</td>\n",
       "      <td>0.128895</td>\n",
       "      <td>11.769122</td>\n",
       "      <td>5.082839</td>\n",
       "      <td>1635.144476</td>\n",
       "    </tr>\n",
       "    <tr>\n",
       "      <th>std</th>\n",
       "      <td>11.342637</td>\n",
       "      <td>0.217219</td>\n",
       "      <td>203.948932</td>\n",
       "      <td>0.335413</td>\n",
       "      <td>0.148366</td>\n",
       "      <td>2.784702</td>\n",
       "      <td>9323.588151</td>\n",
       "      <td>0.311942</td>\n",
       "      <td>0.431254</td>\n",
       "      <td>908.049561</td>\n",
       "      <td>...</td>\n",
       "      <td>0.499961</td>\n",
       "      <td>947.470123</td>\n",
       "      <td>0.413269</td>\n",
       "      <td>945.301457</td>\n",
       "      <td>148.834262</td>\n",
       "      <td>12.377520</td>\n",
       "      <td>0.335321</td>\n",
       "      <td>11.591227</td>\n",
       "      <td>3.704385</td>\n",
       "      <td>950.102976</td>\n",
       "    </tr>\n",
       "    <tr>\n",
       "      <th>min</th>\n",
       "      <td>23.000000</td>\n",
       "      <td>0.000000</td>\n",
       "      <td>1.000000</td>\n",
       "      <td>0.000000</td>\n",
       "      <td>0.000000</td>\n",
       "      <td>1.000000</td>\n",
       "      <td>0.000000</td>\n",
       "      <td>0.000000</td>\n",
       "      <td>0.000000</td>\n",
       "      <td>1745.000000</td>\n",
       "      <td>...</td>\n",
       "      <td>0.000000</td>\n",
       "      <td>0.000000</td>\n",
       "      <td>0.000000</td>\n",
       "      <td>0.000000</td>\n",
       "      <td>0.000000</td>\n",
       "      <td>0.000000</td>\n",
       "      <td>0.000000</td>\n",
       "      <td>0.000000</td>\n",
       "      <td>0.350000</td>\n",
       "      <td>529.000000</td>\n",
       "    </tr>\n",
       "    <tr>\n",
       "      <th>25%</th>\n",
       "      <td>29.000000</td>\n",
       "      <td>0.000000</td>\n",
       "      <td>177.250000</td>\n",
       "      <td>0.000000</td>\n",
       "      <td>0.000000</td>\n",
       "      <td>12.000000</td>\n",
       "      <td>2500.000000</td>\n",
       "      <td>1.000000</td>\n",
       "      <td>1.000000</td>\n",
       "      <td>4109.750000</td>\n",
       "      <td>...</td>\n",
       "      <td>0.000000</td>\n",
       "      <td>1553.500000</td>\n",
       "      <td>0.000000</td>\n",
       "      <td>1538.000000</td>\n",
       "      <td>0.000000</td>\n",
       "      <td>10.000000</td>\n",
       "      <td>0.000000</td>\n",
       "      <td>0.000000</td>\n",
       "      <td>NaN</td>\n",
       "      <td>841.000000</td>\n",
       "    </tr>\n",
       "    <tr>\n",
       "      <th>50%</th>\n",
       "      <td>36.000000</td>\n",
       "      <td>0.000000</td>\n",
       "      <td>353.500000</td>\n",
       "      <td>0.000000</td>\n",
       "      <td>0.000000</td>\n",
       "      <td>12.000000</td>\n",
       "      <td>8250.000000</td>\n",
       "      <td>1.000000</td>\n",
       "      <td>1.000000</td>\n",
       "      <td>4620.000000</td>\n",
       "      <td>...</td>\n",
       "      <td>0.000000</td>\n",
       "      <td>2288.000000</td>\n",
       "      <td>0.000000</td>\n",
       "      <td>2275.000000</td>\n",
       "      <td>0.000000</td>\n",
       "      <td>17.000000</td>\n",
       "      <td>0.000000</td>\n",
       "      <td>9.000000</td>\n",
       "      <td>NaN</td>\n",
       "      <td>1296.000000</td>\n",
       "    </tr>\n",
       "    <tr>\n",
       "      <th>75%</th>\n",
       "      <td>48.000000</td>\n",
       "      <td>0.000000</td>\n",
       "      <td>529.750000</td>\n",
       "      <td>0.182331</td>\n",
       "      <td>0.030075</td>\n",
       "      <td>16.000000</td>\n",
       "      <td>13750.000000</td>\n",
       "      <td>1.000000</td>\n",
       "      <td>1.000000</td>\n",
       "      <td>5203.750000</td>\n",
       "      <td>...</td>\n",
       "      <td>1.000000</td>\n",
       "      <td>2691.750000</td>\n",
       "      <td>0.000000</td>\n",
       "      <td>2635.500000</td>\n",
       "      <td>0.000000</td>\n",
       "      <td>30.000000</td>\n",
       "      <td>0.000000</td>\n",
       "      <td>20.000000</td>\n",
       "      <td>NaN</td>\n",
       "      <td>2304.000000</td>\n",
       "    </tr>\n",
       "    <tr>\n",
       "      <th>max</th>\n",
       "      <td>65.000000</td>\n",
       "      <td>1.000000</td>\n",
       "      <td>706.000000</td>\n",
       "      <td>1.000000</td>\n",
       "      <td>1.000000</td>\n",
       "      <td>17.000000</td>\n",
       "      <td>42500.000000</td>\n",
       "      <td>1.000000</td>\n",
       "      <td>1.000000</td>\n",
       "      <td>7417.000000</td>\n",
       "      <td>...</td>\n",
       "      <td>1.000000</td>\n",
       "      <td>6415.000000</td>\n",
       "      <td>1.000000</td>\n",
       "      <td>6415.000000</td>\n",
       "      <td>1337.000000</td>\n",
       "      <td>55.000000</td>\n",
       "      <td>1.000000</td>\n",
       "      <td>43.000000</td>\n",
       "      <td>35.509987</td>\n",
       "      <td>4225.000000</td>\n",
       "    </tr>\n",
       "  </tbody>\n",
       "</table>\n",
       "<p>8 rows × 34 columns</p>\n",
       "</div>"
      ],
      "text/plain": [
       "              age       black        case    clerical    construc        educ  \\\n",
       "count  706.000000  706.000000  706.000000  706.000000  706.000000  706.000000   \n",
       "mean    38.815864    0.049575  353.500000    0.182331    0.030075   12.780453   \n",
       "std     11.342637    0.217219  203.948932    0.335413    0.148366    2.784702   \n",
       "min     23.000000    0.000000    1.000000    0.000000    0.000000    1.000000   \n",
       "25%     29.000000    0.000000  177.250000    0.000000    0.000000   12.000000   \n",
       "50%     36.000000    0.000000  353.500000    0.000000    0.000000   12.000000   \n",
       "75%     48.000000    0.000000  529.750000    0.182331    0.030075   16.000000   \n",
       "max     65.000000    1.000000  706.000000    1.000000    1.000000   17.000000   \n",
       "\n",
       "            earns74      gdhlth        inlf        leis1     ...       \\\n",
       "count    706.000000  706.000000  706.000000   706.000000     ...        \n",
       "mean    9767.705382    0.890935    0.753541  4690.723796     ...        \n",
       "std     9323.588151    0.311942    0.431254   908.049561     ...        \n",
       "min        0.000000    0.000000    0.000000  1745.000000     ...        \n",
       "25%     2500.000000    1.000000    1.000000  4109.750000     ...        \n",
       "50%     8250.000000    1.000000    1.000000  4620.000000     ...        \n",
       "75%    13750.000000    1.000000    1.000000  5203.750000     ...        \n",
       "max    42500.000000    1.000000    1.000000  7417.000000     ...        \n",
       "\n",
       "          spwrk75       totwrk       union      worknrm     workscnd  \\\n",
       "count  706.000000   706.000000  706.000000   706.000000   706.000000   \n",
       "mean     0.480170  2122.920680    0.218130  2093.252125    29.668555   \n",
       "std      0.499961   947.470123    0.413269   945.301457   148.834262   \n",
       "min      0.000000     0.000000    0.000000     0.000000     0.000000   \n",
       "25%      0.000000  1553.500000    0.000000  1538.000000     0.000000   \n",
       "50%      0.000000  2288.000000    0.000000  2275.000000     0.000000   \n",
       "75%      1.000000  2691.750000    0.000000  2635.500000     0.000000   \n",
       "max      1.000000  6415.000000    1.000000  6415.000000  1337.000000   \n",
       "\n",
       "            exper      yngkid     yrsmarr      hrwage        agesq  \n",
       "count  706.000000  706.000000  706.000000  532.000000   706.000000  \n",
       "mean    20.035411    0.128895   11.769122    5.082839  1635.144476  \n",
       "std     12.377520    0.335321   11.591227    3.704385   950.102976  \n",
       "min      0.000000    0.000000    0.000000    0.350000   529.000000  \n",
       "25%     10.000000    0.000000    0.000000         NaN   841.000000  \n",
       "50%     17.000000    0.000000    9.000000         NaN  1296.000000  \n",
       "75%     30.000000    0.000000   20.000000         NaN  2304.000000  \n",
       "max     55.000000    1.000000   43.000000   35.509987  4225.000000  \n",
       "\n",
       "[8 rows x 34 columns]"
      ]
     },
     "execution_count": 3,
     "metadata": {},
     "output_type": "execute_result"
    }
   ],
   "source": [
    "sleep.describe()"
   ]
  },
  {
   "cell_type": "code",
   "execution_count": 4,
   "metadata": {
    "collapsed": false
   },
   "outputs": [
    {
     "data": {
      "text/html": [
       "<div>\n",
       "<table border=\"1\" class=\"dataframe\">\n",
       "  <thead>\n",
       "    <tr style=\"text-align: right;\">\n",
       "      <th></th>\n",
       "      <th>age</th>\n",
       "      <th>black</th>\n",
       "      <th>case</th>\n",
       "      <th>clerical</th>\n",
       "      <th>construc</th>\n",
       "      <th>educ</th>\n",
       "      <th>earns74</th>\n",
       "      <th>gdhlth</th>\n",
       "      <th>inlf</th>\n",
       "      <th>leis1</th>\n",
       "      <th>...</th>\n",
       "      <th>spwrk75</th>\n",
       "      <th>totwrk</th>\n",
       "      <th>union</th>\n",
       "      <th>worknrm</th>\n",
       "      <th>workscnd</th>\n",
       "      <th>exper</th>\n",
       "      <th>yngkid</th>\n",
       "      <th>yrsmarr</th>\n",
       "      <th>hrwage</th>\n",
       "      <th>agesq</th>\n",
       "    </tr>\n",
       "  </thead>\n",
       "  <tbody>\n",
       "    <tr>\n",
       "      <th>0</th>\n",
       "      <td>32</td>\n",
       "      <td>0</td>\n",
       "      <td>1</td>\n",
       "      <td>0.0</td>\n",
       "      <td>0.0</td>\n",
       "      <td>12</td>\n",
       "      <td>0</td>\n",
       "      <td>0</td>\n",
       "      <td>1</td>\n",
       "      <td>3529</td>\n",
       "      <td>...</td>\n",
       "      <td>0</td>\n",
       "      <td>3438</td>\n",
       "      <td>0</td>\n",
       "      <td>3438</td>\n",
       "      <td>0</td>\n",
       "      <td>14</td>\n",
       "      <td>0</td>\n",
       "      <td>13</td>\n",
       "      <td>7.070004</td>\n",
       "      <td>1024</td>\n",
       "    </tr>\n",
       "    <tr>\n",
       "      <th>1</th>\n",
       "      <td>31</td>\n",
       "      <td>0</td>\n",
       "      <td>2</td>\n",
       "      <td>0.0</td>\n",
       "      <td>0.0</td>\n",
       "      <td>14</td>\n",
       "      <td>9500</td>\n",
       "      <td>1</td>\n",
       "      <td>1</td>\n",
       "      <td>2140</td>\n",
       "      <td>...</td>\n",
       "      <td>0</td>\n",
       "      <td>5020</td>\n",
       "      <td>0</td>\n",
       "      <td>5020</td>\n",
       "      <td>0</td>\n",
       "      <td>11</td>\n",
       "      <td>0</td>\n",
       "      <td>0</td>\n",
       "      <td>1.429999</td>\n",
       "      <td>961</td>\n",
       "    </tr>\n",
       "    <tr>\n",
       "      <th>2</th>\n",
       "      <td>44</td>\n",
       "      <td>0</td>\n",
       "      <td>3</td>\n",
       "      <td>0.0</td>\n",
       "      <td>0.0</td>\n",
       "      <td>17</td>\n",
       "      <td>42500</td>\n",
       "      <td>1</td>\n",
       "      <td>1</td>\n",
       "      <td>4595</td>\n",
       "      <td>...</td>\n",
       "      <td>1</td>\n",
       "      <td>2815</td>\n",
       "      <td>0</td>\n",
       "      <td>2815</td>\n",
       "      <td>0</td>\n",
       "      <td>21</td>\n",
       "      <td>0</td>\n",
       "      <td>0</td>\n",
       "      <td>20.529997</td>\n",
       "      <td>1936</td>\n",
       "    </tr>\n",
       "    <tr>\n",
       "      <th>3</th>\n",
       "      <td>30</td>\n",
       "      <td>0</td>\n",
       "      <td>4</td>\n",
       "      <td>0.0</td>\n",
       "      <td>0.0</td>\n",
       "      <td>12</td>\n",
       "      <td>42500</td>\n",
       "      <td>1</td>\n",
       "      <td>1</td>\n",
       "      <td>3211</td>\n",
       "      <td>...</td>\n",
       "      <td>1</td>\n",
       "      <td>3786</td>\n",
       "      <td>0</td>\n",
       "      <td>3786</td>\n",
       "      <td>0</td>\n",
       "      <td>12</td>\n",
       "      <td>0</td>\n",
       "      <td>12</td>\n",
       "      <td>9.619998</td>\n",
       "      <td>900</td>\n",
       "    </tr>\n",
       "    <tr>\n",
       "      <th>4</th>\n",
       "      <td>64</td>\n",
       "      <td>0</td>\n",
       "      <td>5</td>\n",
       "      <td>0.0</td>\n",
       "      <td>0.0</td>\n",
       "      <td>14</td>\n",
       "      <td>2500</td>\n",
       "      <td>1</td>\n",
       "      <td>1</td>\n",
       "      <td>4052</td>\n",
       "      <td>...</td>\n",
       "      <td>1</td>\n",
       "      <td>2580</td>\n",
       "      <td>0</td>\n",
       "      <td>2580</td>\n",
       "      <td>0</td>\n",
       "      <td>44</td>\n",
       "      <td>0</td>\n",
       "      <td>33</td>\n",
       "      <td>2.750000</td>\n",
       "      <td>4096</td>\n",
       "    </tr>\n",
       "  </tbody>\n",
       "</table>\n",
       "<p>5 rows × 34 columns</p>\n",
       "</div>"
      ],
      "text/plain": [
       "   age  black  case  clerical  construc  educ  earns74  gdhlth  inlf  leis1  \\\n",
       "0   32      0     1       0.0       0.0    12        0       0     1   3529   \n",
       "1   31      0     2       0.0       0.0    14     9500       1     1   2140   \n",
       "2   44      0     3       0.0       0.0    17    42500       1     1   4595   \n",
       "3   30      0     4       0.0       0.0    12    42500       1     1   3211   \n",
       "4   64      0     5       0.0       0.0    14     2500       1     1   4052   \n",
       "\n",
       "   ...    spwrk75  totwrk  union  worknrm  workscnd  exper  yngkid  yrsmarr  \\\n",
       "0  ...          0    3438      0     3438         0     14       0       13   \n",
       "1  ...          0    5020      0     5020         0     11       0        0   \n",
       "2  ...          1    2815      0     2815         0     21       0        0   \n",
       "3  ...          1    3786      0     3786         0     12       0       12   \n",
       "4  ...          1    2580      0     2580         0     44       0       33   \n",
       "\n",
       "      hrwage  agesq  \n",
       "0   7.070004   1024  \n",
       "1   1.429999    961  \n",
       "2  20.529997   1936  \n",
       "3   9.619998    900  \n",
       "4   2.750000   4096  \n",
       "\n",
       "[5 rows x 34 columns]"
      ]
     },
     "execution_count": 4,
     "metadata": {},
     "output_type": "execute_result"
    }
   ],
   "source": [
    "#Check Shape of Dataset\n",
    "sleep.head()"
   ]
  },
  {
   "cell_type": "code",
   "execution_count": 5,
   "metadata": {
    "collapsed": false
   },
   "outputs": [
    {
     "name": "stdout",
     "output_type": "stream",
     "text": [
      "<class 'pandas.core.frame.DataFrame'>\n",
      "RangeIndex: 706 entries, 0 to 705\n",
      "Data columns (total 34 columns):\n",
      "age         706 non-null int64\n",
      "black       706 non-null int64\n",
      "case        706 non-null int64\n",
      "clerical    706 non-null float64\n",
      "construc    706 non-null float64\n",
      "educ        706 non-null int64\n",
      "earns74     706 non-null int64\n",
      "gdhlth      706 non-null int64\n",
      "inlf        706 non-null int64\n",
      "leis1       706 non-null int64\n",
      "leis2       706 non-null int64\n",
      "leis3       706 non-null int64\n",
      "smsa        706 non-null int64\n",
      "lhrwage     532 non-null float64\n",
      "lothinc     706 non-null float64\n",
      "male        706 non-null int64\n",
      "marr        706 non-null int64\n",
      "prot        706 non-null int64\n",
      "rlxall      706 non-null int64\n",
      "selfe       706 non-null int64\n",
      "sleep       706 non-null int64\n",
      "slpnaps     706 non-null int64\n",
      "south       706 non-null int64\n",
      "spsepay     706 non-null int64\n",
      "spwrk75     706 non-null int64\n",
      "totwrk      706 non-null int64\n",
      "union       706 non-null int64\n",
      "worknrm     706 non-null int64\n",
      "workscnd    706 non-null int64\n",
      "exper       706 non-null int64\n",
      "yngkid      706 non-null int64\n",
      "yrsmarr     706 non-null int64\n",
      "hrwage      532 non-null float64\n",
      "agesq       706 non-null int64\n",
      "dtypes: float64(5), int64(29)\n",
      "memory usage: 187.6 KB\n"
     ]
    }
   ],
   "source": [
    "#Type of Values \n",
    "sleep.info()"
   ]
  },
  {
   "cell_type": "code",
   "execution_count": 6,
   "metadata": {
    "collapsed": false
   },
   "outputs": [
    {
     "data": {
      "text/plain": [
       "age           0\n",
       "black         0\n",
       "case          0\n",
       "clerical      0\n",
       "construc      0\n",
       "educ          0\n",
       "earns74       0\n",
       "gdhlth        0\n",
       "inlf          0\n",
       "leis1         0\n",
       "leis2         0\n",
       "leis3         0\n",
       "smsa          0\n",
       "lhrwage     174\n",
       "lothinc       0\n",
       "male          0\n",
       "marr          0\n",
       "prot          0\n",
       "rlxall        0\n",
       "selfe         0\n",
       "sleep         0\n",
       "slpnaps       0\n",
       "south         0\n",
       "spsepay       0\n",
       "spwrk75       0\n",
       "totwrk        0\n",
       "union         0\n",
       "worknrm       0\n",
       "workscnd      0\n",
       "exper         0\n",
       "yngkid        0\n",
       "yrsmarr       0\n",
       "hrwage      174\n",
       "agesq         0\n",
       "dtype: int64"
      ]
     },
     "execution_count": 6,
     "metadata": {},
     "output_type": "execute_result"
    }
   ],
   "source": [
    "#Missing Values \n",
    "sleep.isnull().sum()"
   ]
  },
  {
   "cell_type": "markdown",
   "metadata": {},
   "source": [
    "## 2. Drop missing values (not the best practice), but OK for exam \n",
    "    Once you drop the missing values, check that the list of binary variables have values of 1 an 0\n",
    "        Note: at this point the inlf predictor/variable should have the value of 1\n",
    "---"
   ]
  },
  {
   "cell_type": "code",
   "execution_count": 7,
   "metadata": {
    "collapsed": false
   },
   "outputs": [
    {
     "data": {
      "text/plain": [
       "age         0\n",
       "black       0\n",
       "case        0\n",
       "clerical    0\n",
       "construc    0\n",
       "educ        0\n",
       "earns74     0\n",
       "gdhlth      0\n",
       "inlf        0\n",
       "leis1       0\n",
       "leis2       0\n",
       "leis3       0\n",
       "smsa        0\n",
       "lhrwage     0\n",
       "lothinc     0\n",
       "male        0\n",
       "marr        0\n",
       "prot        0\n",
       "rlxall      0\n",
       "selfe       0\n",
       "sleep       0\n",
       "slpnaps     0\n",
       "south       0\n",
       "spsepay     0\n",
       "spwrk75     0\n",
       "totwrk      0\n",
       "union       0\n",
       "worknrm     0\n",
       "workscnd    0\n",
       "exper       0\n",
       "yngkid      0\n",
       "yrsmarr     0\n",
       "hrwage      0\n",
       "agesq       0\n",
       "dtype: int64"
      ]
     },
     "execution_count": 7,
     "metadata": {},
     "output_type": "execute_result"
    }
   ],
   "source": [
    "#Drop Missing Values\n",
    "sleep.dropna(subset = ['lhrwage', 'hrwage'], inplace = True)\n",
    "sleep.isnull().sum()"
   ]
  },
  {
   "cell_type": "code",
   "execution_count": 8,
   "metadata": {
    "collapsed": false
   },
   "outputs": [
    {
     "data": {
      "text/html": [
       "<div>\n",
       "<table border=\"1\" class=\"dataframe\">\n",
       "  <thead>\n",
       "    <tr style=\"text-align: right;\">\n",
       "      <th></th>\n",
       "      <th>black</th>\n",
       "      <th>clerical</th>\n",
       "      <th>construc</th>\n",
       "      <th>gdhlth</th>\n",
       "      <th>inlf</th>\n",
       "      <th>smsa</th>\n",
       "      <th>male</th>\n",
       "      <th>marr</th>\n",
       "      <th>prot</th>\n",
       "      <th>selfe</th>\n",
       "      <th>spwrk75</th>\n",
       "      <th>union</th>\n",
       "      <th>yngkid</th>\n",
       "    </tr>\n",
       "  </thead>\n",
       "  <tbody>\n",
       "    <tr>\n",
       "      <th>0</th>\n",
       "      <td>0</td>\n",
       "      <td>0.0</td>\n",
       "      <td>0.0</td>\n",
       "      <td>0</td>\n",
       "      <td>1</td>\n",
       "      <td>0</td>\n",
       "      <td>1</td>\n",
       "      <td>1</td>\n",
       "      <td>1</td>\n",
       "      <td>0</td>\n",
       "      <td>0</td>\n",
       "      <td>0</td>\n",
       "      <td>0</td>\n",
       "    </tr>\n",
       "    <tr>\n",
       "      <th>1</th>\n",
       "      <td>0</td>\n",
       "      <td>0.0</td>\n",
       "      <td>0.0</td>\n",
       "      <td>1</td>\n",
       "      <td>1</td>\n",
       "      <td>0</td>\n",
       "      <td>1</td>\n",
       "      <td>0</td>\n",
       "      <td>1</td>\n",
       "      <td>1</td>\n",
       "      <td>0</td>\n",
       "      <td>0</td>\n",
       "      <td>0</td>\n",
       "    </tr>\n",
       "    <tr>\n",
       "      <th>2</th>\n",
       "      <td>0</td>\n",
       "      <td>0.0</td>\n",
       "      <td>0.0</td>\n",
       "      <td>1</td>\n",
       "      <td>1</td>\n",
       "      <td>1</td>\n",
       "      <td>1</td>\n",
       "      <td>1</td>\n",
       "      <td>0</td>\n",
       "      <td>1</td>\n",
       "      <td>1</td>\n",
       "      <td>0</td>\n",
       "      <td>0</td>\n",
       "    </tr>\n",
       "    <tr>\n",
       "      <th>3</th>\n",
       "      <td>0</td>\n",
       "      <td>0.0</td>\n",
       "      <td>0.0</td>\n",
       "      <td>1</td>\n",
       "      <td>1</td>\n",
       "      <td>0</td>\n",
       "      <td>0</td>\n",
       "      <td>1</td>\n",
       "      <td>1</td>\n",
       "      <td>1</td>\n",
       "      <td>1</td>\n",
       "      <td>0</td>\n",
       "      <td>0</td>\n",
       "    </tr>\n",
       "    <tr>\n",
       "      <th>4</th>\n",
       "      <td>0</td>\n",
       "      <td>0.0</td>\n",
       "      <td>0.0</td>\n",
       "      <td>1</td>\n",
       "      <td>1</td>\n",
       "      <td>0</td>\n",
       "      <td>1</td>\n",
       "      <td>1</td>\n",
       "      <td>1</td>\n",
       "      <td>0</td>\n",
       "      <td>1</td>\n",
       "      <td>0</td>\n",
       "      <td>0</td>\n",
       "    </tr>\n",
       "  </tbody>\n",
       "</table>\n",
       "</div>"
      ],
      "text/plain": [
       "   black  clerical  construc  gdhlth  inlf  smsa  male  marr  prot  selfe  \\\n",
       "0      0       0.0       0.0       0     1     0     1     1     1      0   \n",
       "1      0       0.0       0.0       1     1     0     1     0     1      1   \n",
       "2      0       0.0       0.0       1     1     1     1     1     0      1   \n",
       "3      0       0.0       0.0       1     1     0     0     1     1      1   \n",
       "4      0       0.0       0.0       1     1     0     1     1     1      0   \n",
       "\n",
       "   spwrk75  union  yngkid  \n",
       "0        0      0       0  \n",
       "1        0      0       0  \n",
       "2        1      0       0  \n",
       "3        1      0       0  \n",
       "4        1      0       0  "
      ]
     },
     "execution_count": 8,
     "metadata": {},
     "output_type": "execute_result"
    }
   ],
   "source": [
    "#Check for Binary Variables \n",
    "binary_var = sleep[['black', 'clerical', 'construc', 'gdhlth', 'inlf', 'smsa', 'male', 'marr', 'prot', 'selfe', 'spwrk75', 'union', 'yngkid']]\n",
    "\n",
    "binary_var.head()"
   ]
  },
  {
   "cell_type": "code",
   "execution_count": 9,
   "metadata": {
    "collapsed": false
   },
   "outputs": [
    {
     "data": {
      "text/plain": [
       "count    532.0\n",
       "mean       1.0\n",
       "std        0.0\n",
       "min        1.0\n",
       "25%        1.0\n",
       "50%        1.0\n",
       "75%        1.0\n",
       "max        1.0\n",
       "Name: inlf, dtype: float64"
      ]
     },
     "execution_count": 9,
     "metadata": {},
     "output_type": "execute_result"
    }
   ],
   "source": [
    "sleep[\"inlf\"].describe()"
   ]
  },
  {
   "cell_type": "markdown",
   "metadata": {},
   "source": [
    "## 3. Check for correlations\n",
    "    Implement a heatmap\n",
    "---"
   ]
  },
  {
   "cell_type": "code",
   "execution_count": 10,
   "metadata": {
    "collapsed": false
   },
   "outputs": [
    {
     "data": {
      "text/plain": [
       "<matplotlib.axes._subplots.AxesSubplot at 0x1146fe750>"
      ]
     },
     "execution_count": 10,
     "metadata": {},
     "output_type": "execute_result"
    },
    {
     "data": {
      "image/png": "[encoded data removed]",
      "text/plain": [
       "<matplotlib.figure.Figure at 0x1146d5ad0>"
      ]
     },
     "metadata": {
      "image/png": {
       "height": 422,
       "width": 585
      }
     },
     "output_type": "display_data"
    }
   ],
   "source": [
    "corr = sleep.corr()\n",
    "sns.heatmap(corr, xticklabels=corr.columns, yticklabels=corr.columns)"
   ]
  },
  {
   "cell_type": "markdown",
   "metadata": {},
   "source": [
    "**Citation: Feb 13, 2017 Lecture; 1.3-full-analysis.ipynb"
   ]
  },
  {
   "cell_type": "markdown",
   "metadata": {},
   "source": [
    "## 4.1 Predictions\n",
    "    Define y (mins sleep at night, per week)\n",
    "    Define X (where X are your predictors => make sure to include the correct variables, i.e. exclude y, case, lothinc, and **other** variables)\n",
    "    Standarized your Xs\n",
    "    Train test split:\n",
    "        splits your data into train test, \n",
    "        assigns a size of 30% to your test set, and use random_state=10\n",
    "        print the shape of your train (X, y) and test (X, y)\n",
    "---"
   ]
  },
  {
   "cell_type": "code",
   "execution_count": 11,
   "metadata": {
    "collapsed": false
   },
   "outputs": [
    {
     "name": "stdout",
     "output_type": "stream",
     "text": [
      "(532,) <type 'numpy.ndarray'>\n",
      "\n",
      "=====\n",
      "\n",
      "(532, 11) <type 'numpy.ndarray'>\n"
     ]
    }
   ],
   "source": [
    "#Define Y and X\n",
    "Y = sleep.sleep.values \n",
    "X = sleep[['totwrk', 'marr','yrsmarr','age','agesq', 'educ', 'male', 'gdhlth', 'yngkid', 'prot','black']]\n",
    "\n",
    "from sklearn import linear_model\n",
    "from sklearn.metrics import mean_squared_error\n",
    "from sklearn.metrics import r2_score\n",
    "\n",
    "#Standardize \n",
    "from sklearn.preprocessing import StandardScaler\n",
    "ss = StandardScaler()\n",
    "Xn = ss.fit_transform(X)\n",
    "print (Y.shape), (type(Y))\n",
    "print (\"\\n=====\\n\")\n",
    "print (Xn.shape), (type(Xn))\n",
    "    "
   ]
  },
  {
   "cell_type": "code",
   "execution_count": 12,
   "metadata": {
    "collapsed": false
   },
   "outputs": [
    {
     "name": "stdout",
     "output_type": "stream",
     "text": [
      "(372, 11) (160, 11)\n",
      "\n",
      "======\n",
      "\n",
      "(372,) (160,)\n"
     ]
    }
   ],
   "source": [
    "#Train test split\n",
    "from sklearn.cross_validation import train_test_split\n",
    "X_train, X_test, y_train, y_test = train_test_split(Xn, Y, test_size=0.3, random_state=10)\n",
    "print X_train.shape, X_test.shape\n",
    "print \"\\n======\\n\"\n",
    "print y_train.shape, y_test.shape\n"
   ]
  },
  {
   "cell_type": "markdown",
   "metadata": {},
   "source": [
    "**Citation: Feb 27, 2017 Lecture; OLS, CV, Normalization and Regularization "
   ]
  },
  {
   "cell_type": "markdown",
   "metadata": {},
   "source": [
    "# 4.2 Machine Learning models \n",
    "    OLS, Regularization methods and evaluate the performance of your models on the train and test datasets\n",
    "    Cross validate at least 10 times the R^2 scores of your models and print the average R^2 scores \n",
    "    For the OLS implement an scatter plot that shows the relation between your predicted values and the y_test values (the actual values)\n",
    "    \n",
    "---"
   ]
  },
  {
   "cell_type": "markdown",
   "metadata": {},
   "source": [
    "**<i>The following section (4.2 Machine Learning models) is heavily based upon Feb 27, 2017 Lecture; <u>OLS_CV_Regularization.ipynb</u> and <u>CART_random_forest_demo.ipynb</u> </i>**"
   ]
  },
  {
   "cell_type": "code",
   "execution_count": 13,
   "metadata": {
    "collapsed": false
   },
   "outputs": [
    {
     "name": "stdout",
     "output_type": "stream",
     "text": [
      "[-167.26937057   47.79672426  -24.18410274  -19.870225     58.288351\n",
      "  -14.39508675   -5.50281759  -29.20779366   18.97644606   16.90405604\n",
      "  -14.33270688]\n",
      "====\n",
      "\n",
      "[ 0.10202634 -0.16281178 -0.05429062  0.28329459 -0.17924442  0.14375554\n",
      " -0.09792159  0.0974799   0.08460759 -0.00088748]\n",
      "Average R^2 OLS score: 0.022\n"
     ]
    }
   ],
   "source": [
    "#import packages\n",
    "from sklearn.cross_validation import cross_val_score\n",
    "from sklearn.linear_model import LinearRegression\n",
    "from sklearn.cross_validation import train_test_split\n",
    "\n",
    "#Define Linear Model \n",
    "lr = LinearRegression()\n",
    "\n",
    "#Fit Model\n",
    "lr.fit(X_train, y_train)\n",
    "\n",
    "#Predict Values\n",
    "ytrain_pred = lr.predict(X_train)\n",
    "ytest_pred = lr.predict(X_test)\n",
    "print(lr.coef_)\n",
    "print '====\\n'\n",
    "\n",
    "#Cross Validate \n",
    "linreg_scores = cross_val_score(lr, X_train, y_train, cv=10)\n",
    "\n",
    "#Print R^2 \n",
    "print linreg_scores\n",
    "print \"Average R^2 OLS score: %.3f\" %(np.mean(linreg_scores))"
   ]
  },
  {
   "cell_type": "markdown",
   "metadata": {},
   "source": [
    "## 4.2.1 OLS\n",
    "    \n",
    "---"
   ]
  },
  {
   "cell_type": "code",
   "execution_count": 14,
   "metadata": {
    "collapsed": false
   },
   "outputs": [
    {
     "data": {
      "image/png": "[encoded data removed]",
      "text/plain": [
       "<matplotlib.figure.Figure at 0x114685c10>"
      ]
     },
     "metadata": {
      "image/png": {
       "height": 679,
       "width": 778
      }
     },
     "output_type": "display_data"
    }
   ],
   "source": [
    "fig = plt.figure(figsize=(8,7))\n",
    "\n",
    "\n",
    "plt.scatter(ytest_pred, y_test, c='g', marker='s', label='Test data')\n",
    "\n",
    "plt.xlabel('Predicted values')\n",
    "plt.ylabel('Y Test (actual) values')\n",
    "\n",
    "plt.tight_layout()\n",
    "\n",
    "plt.show()"
   ]
  },
  {
   "cell_type": "code",
   "execution_count": 15,
   "metadata": {
    "collapsed": false
   },
   "outputs": [
    {
     "name": "stdout",
     "output_type": "stream",
     "text": [
      "MSE - OLS train: 160309.854, test: 172894.230\n",
      "R^2 0LS train: 0.148, test: 0.033\n"
     ]
    }
   ],
   "source": [
    "print('MSE - OLS train: %.3f, test: %.3f' % ( mean_squared_error(y_train, ytrain_pred), mean_squared_error(y_test, ytest_pred)))\n",
    "\n",
    "print('R^2 0LS train: %.3f, test: %.3f' % ( r2_score(y_train, ytrain_pred), r2_score(y_test, ytest_pred)))"
   ]
  },
  {
   "cell_type": "markdown",
   "metadata": {},
   "source": [
    "## 4.2.2 Regularization\n",
    "    \n",
    "---"
   ]
  },
  {
   "cell_type": "code",
   "execution_count": 16,
   "metadata": {
    "collapsed": false
   },
   "outputs": [
    {
     "name": "stdout",
     "output_type": "stream",
     "text": [
      "102.341140211\n"
     ]
    }
   ],
   "source": [
    "#Import\n",
    "from sklearn.linear_model import Ridge, Lasso, ElasticNet, RidgeCV, LassoCV, ElasticNetCV\n",
    "\n",
    "ridge_alphas = np.logspace(0, 5, 200)\n",
    "\n",
    "optimal_ridge = RidgeCV(alphas=ridge_alphas, cv=10)\n",
    "optimal_ridge.fit(X_train, y_train)\n",
    "print (optimal_ridge.alpha_)\n"
   ]
  },
  {
   "cell_type": "code",
   "execution_count": 17,
   "metadata": {
    "collapsed": false
   },
   "outputs": [
    {
     "name": "stdout",
     "output_type": "stream",
     "text": [
      "[-122.00241977   28.83758745   -5.42159941   10.12462666   14.38043269\n",
      "  -11.60548211  -15.89840487  -25.1329514    16.18972617    9.53283322\n",
      "  -12.43548983]\n",
      "====\n",
      "\n",
      "[ 0.11870937 -0.09526247 -0.03059066  0.21384746 -0.1289138   0.12409571\n",
      " -0.04372801  0.1223265   0.09051587  0.04987499]\n",
      "====\n",
      "\n",
      "Average R^2 Ridge Score: 0.042\n",
      "MSE - Ridge train: 162127.608, test: 167626.661\n",
      "R^2 - Ridge train: 0.138, test: 0.062\n"
     ]
    }
   ],
   "source": [
    "#Ridge \n",
    "\n",
    "ridge = Ridge(alpha=optimal_ridge.alpha_)\n",
    "ridge.fit(X_train, y_train)\n",
    "ytrain_pred_ridge = ridge.predict(X_train)\n",
    "ytest_pred_ridge = ridge.predict(X_test)\n",
    "print(ridge.coef_)\n",
    "print \"====\\n\"\n",
    "\n",
    "ridge_scores = cross_val_score(ridge, X_train, y_train, cv=10)\n",
    "\n",
    "print ridge_scores\n",
    "print \"====\\n\"\n",
    "print \"Average R^2 Ridge Score: %.3f\" % (np.mean(ridge_scores))\n",
    "\n",
    "print('MSE - Ridge train: %.3f, test: %.3f' % (mean_squared_error(y_train, ytrain_pred_ridge), mean_squared_error(y_test, ytest_pred_ridge)))\n",
    "\n",
    "print('R^2 - Ridge train: %.3f, test: %.3f' % (r2_score(y_train, ytrain_pred_ridge), r2_score(y_test, ytest_pred_ridge)))"
   ]
  },
  {
   "cell_type": "code",
   "execution_count": 18,
   "metadata": {
    "collapsed": false
   },
   "outputs": [
    {
     "name": "stderr",
     "output_type": "stream",
     "text": [
      ".............................................................................................................................................................................................................................................................................................................................................................................................................................................................................................................................................................................................................................................................................................................................................................................................................................................................................................................................................................................................................................................................................................................................................................................................................................................................................................................................................................................................................................................................................................................................................................................................................................................................................................................................................................................................................................................................................................................................................................................................................................................................................................................................................................................................................................................................................................................................................................................................................................................................................................................................................................................................................................................................................................................................................................................................................................................................................................................................................................................................................................................................................................................................................................................................................................................................................................................................................................................................................................................................................................................................................................................................................................................................................................................................................................................................................................................................................................................................................................................................................................................................................................................................................................................................................................................................................................................................................................................................................................................................................................................................................................................................................................................................."
     ]
    },
    {
     "name": "stdout",
     "output_type": "stream",
     "text": [
      "25.3530269045\n",
      "[ 0.1387525  -0.13462552 -0.0203881   0.23336347 -0.16227949  0.08600468\n",
      " -0.06311376  0.16172322  0.13344219  0.06910197]\n",
      "====\n",
      "\n",
      "Average R^2 Lasso score: 0.044\n",
      "MSE - Lasso train: 164616.207, test: 166933.010\n",
      "R^2 - Lasso train: 0.125, test: 0.066\n"
     ]
    },
    {
     "name": "stderr",
     "output_type": "stream",
     "text": [
      "..........................................................................................................................................................................................................................................................................................................................................................................................................................................................................................................................................[Parallel(n_jobs=1)]: Done  10 out of  10 | elapsed:    0.7s finished\n"
     ]
    }
   ],
   "source": [
    "#Lasso\n",
    "\n",
    "optimal_lasso = LassoCV(n_alphas=500, cv=10, verbose=1)\n",
    "optimal_lasso.fit(X_train, y_train)\n",
    "\n",
    "print optimal_lasso.alpha_\n",
    "lasso = Lasso(alpha=optimal_lasso.alpha_)\n",
    "\n",
    "lasso.fit(X_train, y_train)\n",
    "ytrain_pred_lasso = lasso.predict(X_train)\n",
    "ytest_pred_lasso = lasso.predict(X_test)\n",
    "# print(lasso.coef_)\n",
    "# print \"====\\n\"\n",
    "\n",
    "lasso_scores = cross_val_score(lasso, X_train, y_train, cv=10)\n",
    "print lasso_scores\n",
    "print \"====\\n\"\n",
    "\n",
    "print \"Average R^2 Lasso score: %.3f\" % (np.mean(lasso_scores))\n",
    "\n",
    "print('MSE - Lasso train: %.3f, test: %.3f' % (mean_squared_error(y_train, ytrain_pred_lasso), mean_squared_error(y_test, ytest_pred_lasso)))\n",
    "\n",
    "print('R^2 - Lasso train: %.3f, test: %.3f' % (r2_score(y_train, ytrain_pred_lasso), r2_score(y_test, ytest_pred_lasso)))"
   ]
  },
  {
   "cell_type": "markdown",
   "metadata": {},
   "source": [
    "## 4.2.3 What are the features that are the best predictors of mins sleep at night, per week\n",
    "    What are the features with coefficients greater than 0\n",
    "---"
   ]
  },
  {
   "cell_type": "markdown",
   "metadata": {},
   "source": [
    "* <b>Ridge</b>: marr, yngkid, agesq, age, prot\n",
    "* <b>Lasso</b>: marr, agesq"
   ]
  },
  {
   "cell_type": "code",
   "execution_count": 19,
   "metadata": {
    "collapsed": false
   },
   "outputs": [],
   "source": [
    "#Function to print the coefficients, their absolute values and the non-absolute values\n",
    "def best_reg_method(X, best_regulari):\n",
    "    method_coefs = pd.DataFrame({'variable':X.columns, \n",
    "                                 'coef':best_regulari.coef_})\n",
    "    method_coefs.sort_values('coef', inplace=True, ascending=False)\n",
    "    return method_coefs.head(10)"
   ]
  },
  {
   "cell_type": "code",
   "execution_count": 20,
   "metadata": {
    "collapsed": false
   },
   "outputs": [
    {
     "data": {
      "text/html": [
       "<div>\n",
       "<table border=\"1\" class=\"dataframe\">\n",
       "  <thead>\n",
       "    <tr style=\"text-align: right;\">\n",
       "      <th></th>\n",
       "      <th>coef</th>\n",
       "      <th>variable</th>\n",
       "    </tr>\n",
       "  </thead>\n",
       "  <tbody>\n",
       "    <tr>\n",
       "      <th>1</th>\n",
       "      <td>8.004824</td>\n",
       "      <td>marr</td>\n",
       "    </tr>\n",
       "    <tr>\n",
       "      <th>4</th>\n",
       "      <td>0.626829</td>\n",
       "      <td>agesq</td>\n",
       "    </tr>\n",
       "    <tr>\n",
       "      <th>2</th>\n",
       "      <td>0.000000</td>\n",
       "      <td>yrsmarr</td>\n",
       "    </tr>\n",
       "    <tr>\n",
       "      <th>3</th>\n",
       "      <td>0.000000</td>\n",
       "      <td>age</td>\n",
       "    </tr>\n",
       "    <tr>\n",
       "      <th>5</th>\n",
       "      <td>-0.000000</td>\n",
       "      <td>educ</td>\n",
       "    </tr>\n",
       "    <tr>\n",
       "      <th>6</th>\n",
       "      <td>-0.000000</td>\n",
       "      <td>male</td>\n",
       "    </tr>\n",
       "    <tr>\n",
       "      <th>8</th>\n",
       "      <td>0.000000</td>\n",
       "      <td>yngkid</td>\n",
       "    </tr>\n",
       "    <tr>\n",
       "      <th>9</th>\n",
       "      <td>0.000000</td>\n",
       "      <td>prot</td>\n",
       "    </tr>\n",
       "    <tr>\n",
       "      <th>10</th>\n",
       "      <td>-0.000000</td>\n",
       "      <td>black</td>\n",
       "    </tr>\n",
       "    <tr>\n",
       "      <th>7</th>\n",
       "      <td>-5.734461</td>\n",
       "      <td>gdhlth</td>\n",
       "    </tr>\n",
       "  </tbody>\n",
       "</table>\n",
       "</div>"
      ],
      "text/plain": [
       "        coef variable\n",
       "1   8.004824     marr\n",
       "4   0.626829    agesq\n",
       "2   0.000000  yrsmarr\n",
       "3   0.000000      age\n",
       "5  -0.000000     educ\n",
       "6  -0.000000     male\n",
       "8   0.000000   yngkid\n",
       "9   0.000000     prot\n",
       "10 -0.000000    black\n",
       "7  -5.734461   gdhlth"
      ]
     },
     "execution_count": 20,
     "metadata": {},
     "output_type": "execute_result"
    }
   ],
   "source": [
    "best_reg_method(X, lasso)"
   ]
  },
  {
   "cell_type": "code",
   "execution_count": 21,
   "metadata": {
    "collapsed": false
   },
   "outputs": [
    {
     "data": {
      "text/html": [
       "<div>\n",
       "<table border=\"1\" class=\"dataframe\">\n",
       "  <thead>\n",
       "    <tr style=\"text-align: right;\">\n",
       "      <th></th>\n",
       "      <th>coef</th>\n",
       "      <th>variable</th>\n",
       "    </tr>\n",
       "  </thead>\n",
       "  <tbody>\n",
       "    <tr>\n",
       "      <th>1</th>\n",
       "      <td>28.837587</td>\n",
       "      <td>marr</td>\n",
       "    </tr>\n",
       "    <tr>\n",
       "      <th>8</th>\n",
       "      <td>16.189726</td>\n",
       "      <td>yngkid</td>\n",
       "    </tr>\n",
       "    <tr>\n",
       "      <th>4</th>\n",
       "      <td>14.380433</td>\n",
       "      <td>agesq</td>\n",
       "    </tr>\n",
       "    <tr>\n",
       "      <th>3</th>\n",
       "      <td>10.124627</td>\n",
       "      <td>age</td>\n",
       "    </tr>\n",
       "    <tr>\n",
       "      <th>9</th>\n",
       "      <td>9.532833</td>\n",
       "      <td>prot</td>\n",
       "    </tr>\n",
       "    <tr>\n",
       "      <th>2</th>\n",
       "      <td>-5.421599</td>\n",
       "      <td>yrsmarr</td>\n",
       "    </tr>\n",
       "    <tr>\n",
       "      <th>5</th>\n",
       "      <td>-11.605482</td>\n",
       "      <td>educ</td>\n",
       "    </tr>\n",
       "    <tr>\n",
       "      <th>10</th>\n",
       "      <td>-12.435490</td>\n",
       "      <td>black</td>\n",
       "    </tr>\n",
       "    <tr>\n",
       "      <th>6</th>\n",
       "      <td>-15.898405</td>\n",
       "      <td>male</td>\n",
       "    </tr>\n",
       "    <tr>\n",
       "      <th>7</th>\n",
       "      <td>-25.132951</td>\n",
       "      <td>gdhlth</td>\n",
       "    </tr>\n",
       "  </tbody>\n",
       "</table>\n",
       "</div>"
      ],
      "text/plain": [
       "         coef variable\n",
       "1   28.837587     marr\n",
       "8   16.189726   yngkid\n",
       "4   14.380433    agesq\n",
       "3   10.124627      age\n",
       "9    9.532833     prot\n",
       "2   -5.421599  yrsmarr\n",
       "5  -11.605482     educ\n",
       "10 -12.435490    black\n",
       "6  -15.898405     male\n",
       "7  -25.132951   gdhlth"
      ]
     },
     "execution_count": 21,
     "metadata": {},
     "output_type": "execute_result"
    }
   ],
   "source": [
    "best_reg_method(X, ridge)"
   ]
  },
  {
   "cell_type": "markdown",
   "metadata": {},
   "source": [
    "## 4.2.3.1 Bonus\n",
    "    Define a function that creates and prints the distribution of residuals on the train and test data from all the methods\n",
    "---"
   ]
  },
  {
   "cell_type": "code",
   "execution_count": null,
   "metadata": {
    "collapsed": true
   },
   "outputs": [],
   "source": []
  },
  {
   "cell_type": "markdown",
   "metadata": {},
   "source": [
    "## 4.2.4 Regression Tree \n",
    "    Gridsearch your tree\n",
    "    Print the best parameters and best score from your gridsearch.\n",
    "    Evaluate the performance of your tree\n",
    "    Print the features that best explain your Y, are these features the same as the features you found before from the regularization methods or OLS\n",
    "    \n",
    "    OPTIONAL: Visualize the tree ONLY if your computer lets you do it. Your grade won't be penalized for not printing the tree, nor you will receive extra points for visualization the tree\n",
    "---"
   ]
  },
  {
   "cell_type": "markdown",
   "metadata": {},
   "source": [
    "&nbsp;&nbsp;&nbsp;&nbsp;&nbsp;&nbsp; <b><u> Features that best explain Y </u></b>\n",
    "* <b>Regression Tree</b>: totwrk, educ, marr\n",
    "* <b>Random Forest</b>: All variables were slightly above zero\n",
    "\n",
    "&nbsp;&nbsp;&nbsp;&nbsp;&nbsp;&nbsp; The answers differed slightly from before! "
   ]
  },
  {
   "cell_type": "code",
   "execution_count": 22,
   "metadata": {
    "collapsed": false
   },
   "outputs": [
    {
     "name": "stdout",
     "output_type": "stream",
     "text": [
      "Fitting 5 folds for each of 120 candidates, totalling 600 fits\n"
     ]
    },
    {
     "name": "stderr",
     "output_type": "stream",
     "text": [
      "[Parallel(n_jobs=-1)]: Done 600 out of 600 | elapsed:    2.0s finished\n"
     ]
    },
    {
     "data": {
      "text/plain": [
       "GridSearchCV(cv=5, error_score='raise',\n",
       "       estimator=DecisionTreeRegressor(criterion='mse', max_depth=None, max_features=None,\n",
       "           max_leaf_nodes=None, min_samples_leaf=1, min_samples_split=2,\n",
       "           min_weight_fraction_leaf=0.0, presort=False, random_state=None,\n",
       "           splitter='best'),\n",
       "       fit_params={}, iid=True, n_jobs=-1,\n",
       "       param_grid={'max_features': [None, 'auto'], 'min_samples_split': [2, 5, 7], 'criterion': ['mse'], 'max_depth': [3, 5, 10, 20], 'min_samples_leaf': [1, 3, 5, 7, 10]},\n",
       "       pre_dispatch='2*n_jobs', refit=True, scoring=None, verbose=1)"
      ]
     },
     "execution_count": 22,
     "metadata": {},
     "output_type": "execute_result"
    }
   ],
   "source": [
    "from sklearn.tree import DecisionTreeRegressor\n",
    "dtr = DecisionTreeRegressor()\n",
    "\n",
    "#Gridsearch\n",
    "params = {\"max_depth\": [3,5,10,20],\n",
    "          \"max_features\": [None, \"auto\"],\n",
    "          \"min_samples_leaf\": [1, 3, 5, 7, 10],\n",
    "          \"min_samples_split\": [2, 5, 7],\n",
    "           \"criterion\" : ['mse']\n",
    "         }\n",
    "\n",
    "#Crossvalidate \n",
    "from sklearn.grid_search import GridSearchCV\n",
    "dtr_gs = GridSearchCV(dtr, params, n_jobs=-1, cv=5, verbose=1)\n",
    "\n",
    "#Fit Tree\n",
    "dtr_gs.fit(X_train, y_train)"
   ]
  },
  {
   "cell_type": "code",
   "execution_count": 23,
   "metadata": {
    "collapsed": false
   },
   "outputs": [
    {
     "name": "stdout",
     "output_type": "stream",
     "text": [
      "best estimator DecisionTreeRegressor(criterion='mse', max_depth=3, max_features=None,\n",
      "           max_leaf_nodes=None, min_samples_leaf=5, min_samples_split=2,\n",
      "           min_weight_fraction_leaf=0.0, presort=False, random_state=None,\n",
      "           splitter='best')\n",
      "\n",
      "==========\n",
      "\n",
      "best parameters {'max_features': None, 'min_samples_split': 2, 'criterion': 'mse', 'max_depth': 3, 'min_samples_leaf': 5}\n",
      "\n",
      "==========\n",
      "\n",
      "best score -0.0323727303547\n"
     ]
    }
   ],
   "source": [
    "#Best Score\n",
    "dtr_best = dtr_gs.best_estimator_ \n",
    "\n",
    "print \"best estimator\", dtr_best\n",
    "print \"\\n==========\\n\"\n",
    "print \"best parameters\",  dtr_gs.best_params_\n",
    "print \"\\n==========\\n\"\n",
    "print \"best score\", dtr_gs.best_score_"
   ]
  },
  {
   "cell_type": "code",
   "execution_count": 24,
   "metadata": {
    "collapsed": false
   },
   "outputs": [
    {
     "data": {
      "text/html": [
       "<div>\n",
       "<table border=\"1\" class=\"dataframe\">\n",
       "  <thead>\n",
       "    <tr style=\"text-align: right;\">\n",
       "      <th></th>\n",
       "      <th>feature</th>\n",
       "      <th>importance</th>\n",
       "    </tr>\n",
       "  </thead>\n",
       "  <tbody>\n",
       "    <tr>\n",
       "      <th>0</th>\n",
       "      <td>totwrk</td>\n",
       "      <td>0.855299</td>\n",
       "    </tr>\n",
       "    <tr>\n",
       "      <th>5</th>\n",
       "      <td>educ</td>\n",
       "      <td>0.075349</td>\n",
       "    </tr>\n",
       "    <tr>\n",
       "      <th>1</th>\n",
       "      <td>marr</td>\n",
       "      <td>0.069352</td>\n",
       "    </tr>\n",
       "    <tr>\n",
       "      <th>2</th>\n",
       "      <td>yrsmarr</td>\n",
       "      <td>0.000000</td>\n",
       "    </tr>\n",
       "    <tr>\n",
       "      <th>3</th>\n",
       "      <td>age</td>\n",
       "      <td>0.000000</td>\n",
       "    </tr>\n",
       "    <tr>\n",
       "      <th>4</th>\n",
       "      <td>agesq</td>\n",
       "      <td>0.000000</td>\n",
       "    </tr>\n",
       "    <tr>\n",
       "      <th>6</th>\n",
       "      <td>male</td>\n",
       "      <td>0.000000</td>\n",
       "    </tr>\n",
       "    <tr>\n",
       "      <th>7</th>\n",
       "      <td>gdhlth</td>\n",
       "      <td>0.000000</td>\n",
       "    </tr>\n",
       "    <tr>\n",
       "      <th>8</th>\n",
       "      <td>yngkid</td>\n",
       "      <td>0.000000</td>\n",
       "    </tr>\n",
       "    <tr>\n",
       "      <th>9</th>\n",
       "      <td>prot</td>\n",
       "      <td>0.000000</td>\n",
       "    </tr>\n",
       "    <tr>\n",
       "      <th>10</th>\n",
       "      <td>black</td>\n",
       "      <td>0.000000</td>\n",
       "    </tr>\n",
       "  </tbody>\n",
       "</table>\n",
       "</div>"
      ],
      "text/plain": [
       "    feature  importance\n",
       "0    totwrk    0.855299\n",
       "5      educ    0.075349\n",
       "1      marr    0.069352\n",
       "2   yrsmarr    0.000000\n",
       "3       age    0.000000\n",
       "4     agesq    0.000000\n",
       "6      male    0.000000\n",
       "7    gdhlth    0.000000\n",
       "8    yngkid    0.000000\n",
       "9      prot    0.000000\n",
       "10    black    0.000000"
      ]
     },
     "execution_count": 24,
     "metadata": {},
     "output_type": "execute_result"
    }
   ],
   "source": [
    "#Feature Importance \n",
    "def feature_importance(X, best_model):\n",
    "    feature_importance = pd.DataFrame({'feature':X.columns, 'importance':best_model.feature_importances_})\n",
    "    feature_importance.sort_values('importance', ascending=False, inplace=True)\n",
    "    return feature_importance  \n",
    "feature_importance(X, dtr_best)"
   ]
  },
  {
   "cell_type": "code",
   "execution_count": 25,
   "metadata": {
    "collapsed": false
   },
   "outputs": [
    {
     "name": "stdout",
     "output_type": "stream",
     "text": [
      "MSE  Regression Tree train data: 151241.27, test data 188617.73\n",
      "R^2  Regression Tree train data: 0.20, test data: -0.06\n"
     ]
    }
   ],
   "source": [
    "#Evaluate Performance \n",
    "\n",
    "def rsquare_meansquare_error(y_train, y_test, X_train, X_test, test, best_model):\n",
    "    ytrain_pred_tree = best_model.predict(X_train)\n",
    "    ytest_pred_tree = best_model.predict(X_test)\n",
    "    \n",
    "    print ('MSE ' + test + ' train data: %.2f, test data %.2f' %(mean_squared_error(y_train, ytrain_pred_tree), mean_squared_error(y_test, ytest_pred_tree)))\n",
    "    print('R^2 ' + test + ' train data: %.2f, test data: %.2f' % (r2_score(y_train, ytrain_pred_tree),r2_score(y_test, ytest_pred_tree)))\n",
    "    \n",
    "rsquare_meansquare_error(y_train, y_test, X_train, X_test, \" Regression Tree\", dtr_best)"
   ]
  },
  {
   "cell_type": "markdown",
   "metadata": {},
   "source": [
    "## 4.2.5 Random Forest Regression Tree\n",
    "    Make sure you gridsearch your Random Forest\n",
    "    Evaluate the performance\n",
    "    Print the features that best explain mins sleep at night, per week \n",
    "---\n",
    "\n"
   ]
  },
  {
   "cell_type": "code",
   "execution_count": 26,
   "metadata": {
    "collapsed": false
   },
   "outputs": [
    {
     "name": "stdout",
     "output_type": "stream",
     "text": [
      "Fitting 5 folds for each of 54 candidates, totalling 270 fits\n"
     ]
    },
    {
     "name": "stderr",
     "output_type": "stream",
     "text": [
      "[Parallel(n_jobs=-1)]: Done  42 tasks      | elapsed:    7.5s\n",
      "[Parallel(n_jobs=-1)]: Done 192 tasks      | elapsed:   37.8s\n",
      "[Parallel(n_jobs=-1)]: Done 270 out of 270 | elapsed:   49.2s finished\n"
     ]
    },
    {
     "data": {
      "text/plain": [
       "GridSearchCV(cv=5, error_score='raise',\n",
       "       estimator=RandomForestRegressor(bootstrap=True, criterion='mse', max_depth=None,\n",
       "           max_features='auto', max_leaf_nodes=None, min_samples_leaf=1,\n",
       "           min_samples_split=2, min_weight_fraction_leaf=0.0,\n",
       "           n_estimators=10, n_jobs=1, oob_score=False, random_state=None,\n",
       "           verbose=0, warm_start=False),\n",
       "       fit_params={}, iid=True, n_jobs=-1,\n",
       "       param_grid={'max_features': [2, 3, 4], 'max_leaf_nodes': [5, 6, 7], 'min_samples_split': [3, 4], 'n_estimators': [100], 'max_depth': [3, 4, 5]},\n",
       "       pre_dispatch='2*n_jobs', refit=True, scoring=None, verbose=1)"
      ]
     },
     "execution_count": 26,
     "metadata": {},
     "output_type": "execute_result"
    }
   ],
   "source": [
    "#Grid Search\n",
    "from sklearn.ensemble import RandomForestRegressor\n",
    "forest = RandomForestRegressor( )\n",
    "\n",
    "params = {'max_depth':[3,4,5], \n",
    "          'max_features':[2,3,4], \n",
    "          'max_leaf_nodes':[5,6,7], \n",
    "          'min_samples_split':[3,4],\n",
    "         'n_estimators': [100]\n",
    "         }\n",
    "\n",
    "#Cross Validate\n",
    "estimator_rfr = GridSearchCV(forest, params, n_jobs=-1,  cv=5,verbose=1)\n",
    "\n",
    "#Fit\n",
    "estimator_rfr.fit(X_train, y_train)"
   ]
  },
  {
   "cell_type": "code",
   "execution_count": 27,
   "metadata": {
    "collapsed": false
   },
   "outputs": [
    {
     "name": "stdout",
     "output_type": "stream",
     "text": [
      "best estimator RandomForestRegressor(bootstrap=True, criterion='mse', max_depth=5,\n",
      "           max_features=4, max_leaf_nodes=6, min_samples_leaf=1,\n",
      "           min_samples_split=3, min_weight_fraction_leaf=0.0,\n",
      "           n_estimators=100, n_jobs=1, oob_score=False, random_state=None,\n",
      "           verbose=0, warm_start=False)\n",
      "\n",
      "==========\n",
      "\n",
      "best parameters {'max_features': 4, 'max_leaf_nodes': 6, 'min_samples_split': 3, 'n_estimators': 100, 'max_depth': 5}\n",
      "\n",
      "==========\n",
      "\n",
      "best score 0.062411154345\n"
     ]
    }
   ],
   "source": [
    "#Best Score\n",
    "rfr_best = estimator_rfr.best_estimator_ \n",
    "\n",
    "print \"best estimator\", rfr_best\n",
    "print \"\\n==========\\n\"\n",
    "print \"best parameters\",  estimator_rfr.best_params_\n",
    "print \"\\n==========\\n\"\n",
    "print \"best score\", estimator_rfr.best_score_"
   ]
  },
  {
   "cell_type": "code",
   "execution_count": 28,
   "metadata": {
    "collapsed": false
   },
   "outputs": [
    {
     "data": {
      "text/html": [
       "<div>\n",
       "<table border=\"1\" class=\"dataframe\">\n",
       "  <thead>\n",
       "    <tr style=\"text-align: right;\">\n",
       "      <th></th>\n",
       "      <th>feature</th>\n",
       "      <th>importance</th>\n",
       "    </tr>\n",
       "  </thead>\n",
       "  <tbody>\n",
       "    <tr>\n",
       "      <th>0</th>\n",
       "      <td>totwrk</td>\n",
       "      <td>0.531081</td>\n",
       "    </tr>\n",
       "    <tr>\n",
       "      <th>2</th>\n",
       "      <td>yrsmarr</td>\n",
       "      <td>0.112691</td>\n",
       "    </tr>\n",
       "    <tr>\n",
       "      <th>3</th>\n",
       "      <td>age</td>\n",
       "      <td>0.082398</td>\n",
       "    </tr>\n",
       "    <tr>\n",
       "      <th>5</th>\n",
       "      <td>educ</td>\n",
       "      <td>0.082249</td>\n",
       "    </tr>\n",
       "    <tr>\n",
       "      <th>4</th>\n",
       "      <td>agesq</td>\n",
       "      <td>0.065827</td>\n",
       "    </tr>\n",
       "    <tr>\n",
       "      <th>6</th>\n",
       "      <td>male</td>\n",
       "      <td>0.049549</td>\n",
       "    </tr>\n",
       "    <tr>\n",
       "      <th>10</th>\n",
       "      <td>black</td>\n",
       "      <td>0.022116</td>\n",
       "    </tr>\n",
       "    <tr>\n",
       "      <th>1</th>\n",
       "      <td>marr</td>\n",
       "      <td>0.021497</td>\n",
       "    </tr>\n",
       "    <tr>\n",
       "      <th>7</th>\n",
       "      <td>gdhlth</td>\n",
       "      <td>0.014152</td>\n",
       "    </tr>\n",
       "    <tr>\n",
       "      <th>8</th>\n",
       "      <td>yngkid</td>\n",
       "      <td>0.013565</td>\n",
       "    </tr>\n",
       "    <tr>\n",
       "      <th>9</th>\n",
       "      <td>prot</td>\n",
       "      <td>0.004874</td>\n",
       "    </tr>\n",
       "  </tbody>\n",
       "</table>\n",
       "</div>"
      ],
      "text/plain": [
       "    feature  importance\n",
       "0    totwrk    0.531081\n",
       "2   yrsmarr    0.112691\n",
       "3       age    0.082398\n",
       "5      educ    0.082249\n",
       "4     agesq    0.065827\n",
       "6      male    0.049549\n",
       "10    black    0.022116\n",
       "1      marr    0.021497\n",
       "7    gdhlth    0.014152\n",
       "8    yngkid    0.013565\n",
       "9      prot    0.004874"
      ]
     },
     "execution_count": 28,
     "metadata": {},
     "output_type": "execute_result"
    }
   ],
   "source": [
    "#Feature Importance\n",
    "feature_importance(X, rfr_best)"
   ]
  },
  {
   "cell_type": "code",
   "execution_count": 29,
   "metadata": {
    "collapsed": false
   },
   "outputs": [
    {
     "name": "stdout",
     "output_type": "stream",
     "text": [
      "MSE  Random Forest Regression Tree train data: 150412.44, test data 168197.30\n",
      "R^2  Random Forest Regression Tree train data: 0.20, test data: 0.06\n"
     ]
    }
   ],
   "source": [
    "#Evaluate Performance \n",
    "y_pred_rfdtr = rfr_best.predict(X_test)\n",
    "rsquare_meansquare_error(y_train, y_test, X_train, X_test, \" Random Forest Regression Tree\", rfr_best)"
   ]
  },
  {
   "cell_type": "markdown",
   "metadata": {},
   "source": [
    "## 5. Based on the MSE and R^2, in your opinion which model perform best and why?\n",
    "---"
   ]
  },
  {
   "cell_type": "markdown",
   "metadata": {
    "collapsed": true
   },
   "source": [
    "* Based upon the MSE and R^2, the <b>Random Forest</b> model performed the best because it had the <u>lowest MSE</u> (150633.45) and <u>highest R^2</u> (.20) relative to all other models (Random Tree, Lasso, Ridge, OLS)"
   ]
  },
  {
   "cell_type": "markdown",
   "metadata": {},
   "source": [
    "## 6. Was there any trade off between bias and variance whem implementing the models?\n",
    "    \n",
    "---"
   ]
  },
  {
   "cell_type": "markdown",
   "metadata": {},
   "source": [
    "* Yes"
   ]
  },
  {
   "cell_type": "markdown",
   "metadata": {},
   "source": [
    "## 7. Explain the Bias Variance trade in the model you selected?\n",
    "    \n",
    "---"
   ]
  },
  {
   "cell_type": "markdown",
   "metadata": {},
   "source": [
    "* Trees are high variance estimators and are unstable; Small changes to the input data may lead to large effects on the structure of the tree\n",
    "\n",
    "* It may lead to overfitting \n",
    "\n",
    "* The tradeoff: Very good predictive accuracy with a potential for high bias"
   ]
  }
 ],
 "metadata": {
  "anaconda-cloud": {},
  "kernelspec": {
   "display_name": "Python [default]",
   "language": "python",
   "name": "python2"
  },
  "language_info": {
   "codemirror_mode": {
    "name": "ipython",
    "version": 2
   },
   "file_extension": ".py",
   "mimetype": "text/x-python",
   "name": "python",
   "nbconvert_exporter": "python",
   "pygments_lexer": "ipython2",
   "version": "2.7.12"
  }
 },
 "nbformat": 4,
 "nbformat_minor": 2
}
